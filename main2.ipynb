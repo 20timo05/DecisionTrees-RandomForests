{
 "cells": [
  {
   "cell_type": "code",
   "execution_count": 1,
   "metadata": {},
   "outputs": [],
   "source": [
    "import matplotlib.pyplot as plt\n",
    "import csv\n",
    "import numpy as np\n",
    "\n",
    "from trees.DecisionTree import DecisionTree as DecisionTreeRoot\n",
    "from trees.RandomForest import RandomForest\n",
    "from trees.AdaBoostForest import AdaBoostForest"
   ]
  },
  {
   "cell_type": "code",
   "execution_count": 57,
   "metadata": {},
   "outputs": [
    {
     "data": {
      "text/plain": [
       "(['Age', 'Sex', 'BP', 'Cholesterol', 'Na_to_K', 'Drug'],\n",
       " array([[28.   ,  1.   ,  2.   ,  0.   , 18.809,  4.   ],\n",
       "        [49.   ,  0.   ,  2.   ,  0.   ,  6.269,  0.   ],\n",
       "        [74.   ,  1.   ,  0.   ,  1.   , 20.942,  4.   ]]),\n",
       " 160,\n",
       " 40)"
      ]
     },
     "execution_count": 57,
     "metadata": {},
     "output_type": "execute_result"
    }
   ],
   "source": [
    "dataset = []\n",
    "with open('datasets/drug200.csv', newline='') as csvfile:\n",
    "    reader = csv.reader(csvfile, delimiter=',')\n",
    "    categories = next(reader)\n",
    "    for row in reader:\n",
    "        row_list = list(map(str, row))\n",
    "\n",
    "        # Data Preprocessing\n",
    "        row_list[0] = int(row_list[0]) # convert age to int\n",
    "        row_list[1] = [\"M\", \"F\"].index(row_list[1]) # convert sex (\"M\" || \"F\") to 0 - 1\n",
    "        row_list[2] = [\"LOW\", \"NORMAL\", \"HIGH\"].index(row_list[2]) # convert Blood Pressure (\"LOW\" || \"NORMAL\" || \"HIGH\") to 0 - 2\n",
    "        row_list[3] = [\"NORMAL\", \"HIGH\"].index(row_list[3]) # convert Cholesterol Level (\"NORMAL\" || \"HIGH\") to 0 - 1\n",
    "        row_list[4] = float(row_list[4])\n",
    "        row_list[5] = [\"drugA\", \"drugB\", \"drugC\", \"drugX\", \"drugY\"].index(row_list[5]) # convert Drug (\"drugA\" || \"drugB\" || ...) to 0 - 4\n",
    "\n",
    "        dataset.append(row_list)\n",
    "\n",
    "dataset = np.array(dataset)\n",
    "np.random.shuffle(dataset)\n",
    "\n",
    "train = dataset[:int(len(dataset) * 0.8)]\n",
    "test = dataset[int(len(dataset) * 0.8):]\n",
    "\n",
    "categories, dataset[:3], len(train), len(test)"
   ]
  },
  {
   "cell_type": "code",
   "execution_count": 58,
   "metadata": {},
   "outputs": [
    {
     "data": {
      "text/plain": [
       "0.975"
      ]
     },
     "execution_count": 58,
     "metadata": {},
     "output_type": "execute_result"
    }
   ],
   "source": [
    "root = DecisionTreeRoot(train, use_entropy=True)\n",
    "root.generate_tree()\n",
    "\n",
    "root.calc_accuracy(test)"
   ]
  },
  {
   "cell_type": "code",
   "execution_count": 42,
   "metadata": {},
   "outputs": [
    {
     "name": "stderr",
     "output_type": "stream",
     "text": [
      "100%|██████████| 25/25 [00:03<00:00,  7.32it/s]\n"
     ]
    },
    {
     "data": {
      "text/plain": [
       "1.0"
      ]
     },
     "execution_count": 42,
     "metadata": {},
     "output_type": "execute_result"
    }
   ],
   "source": [
    "random_forest = RandomForest(train, decision_tree_count=25, use_all_features=True)\n",
    "random_forest.calc_accuracy(test)"
   ]
  },
  {
   "cell_type": "code",
   "execution_count": 40,
   "metadata": {},
   "outputs": [
    {
     "name": "stderr",
     "output_type": "stream",
     "text": [
      "100%|██████████| 250/250 [00:00<00:00, 526.16it/s]\n"
     ]
    },
    {
     "data": {
      "text/plain": [
       "0.1125"
      ]
     },
     "execution_count": 40,
     "metadata": {},
     "output_type": "execute_result"
    }
   ],
   "source": [
    "ada_boost_forest = AdaBoostForest(train, stump_count=250)\n",
    "ada_boost_forest.calc_accuracy(train)"
   ]
  },
  {
   "cell_type": "code",
   "execution_count": 28,
   "metadata": {},
   "outputs": [
    {
     "data": {
      "text/plain": [
       "(40, 6)"
      ]
     },
     "execution_count": 28,
     "metadata": {},
     "output_type": "execute_result"
    }
   ],
   "source": [
    "test.shape"
   ]
  },
  {
   "cell_type": "code",
   "execution_count": null,
   "metadata": {},
   "outputs": [],
   "source": []
  }
 ],
 "metadata": {
  "kernelspec": {
   "display_name": "Python 3",
   "language": "python",
   "name": "python3"
  },
  "language_info": {
   "codemirror_mode": {
    "name": "ipython",
    "version": 3
   },
   "file_extension": ".py",
   "mimetype": "text/x-python",
   "name": "python",
   "nbconvert_exporter": "python",
   "pygments_lexer": "ipython3",
   "version": "3.11.5"
  }
 },
 "nbformat": 4,
 "nbformat_minor": 2
}
